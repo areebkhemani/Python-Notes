{
 "cells": [
  {
   "cell_type": "markdown",
   "metadata": {},
   "source": [
    "# Function\n",
    "Function is reusable set/block of code/procedures which runs whenever it is called.\n",
    "\n",
    "You can pass data (optional), known as parameters, into a function as input.\n",
    "\n",
    "A function can return data (optional) as a result/output.\n",
    "\n",
    "Functions provide us with the followign advantages:\n",
    "* They help implement DRY-DontRepeatYourself as opposed to WET-WriteEverythingTwice\n",
    "* helps cleanup and avoid code duplication\n",
    "* abstracts away code for other users\n",
    "* allows us to organise things\n",
    "* enable us to debug a program easily\n",
    "\n",
    "## Structure of a function definition:\n",
    "In Python a function is defined using the def keyword. This just defines a function and does not execue until it is called:\n",
    "```console\n",
    "def name_of_function (arguments):\n",
    "    # block of runnable code\n",
    "    # optional return which stops execution and may return a value\n",
    "```    "
   ]
  },
  {
   "cell_type": "code",
   "execution_count": 2,
   "metadata": {},
   "outputs": [],
   "source": [
    "def say_hi():\n",
    "    print('Hi')"
   ]
  },
  {
   "cell_type": "markdown",
   "metadata": {},
   "source": [
    "## Calling a function:    \n",
    "To call a function, use the function name followed by parenthesis:"
   ]
  },
  {
   "cell_type": "code",
   "execution_count": 3,
   "metadata": {},
   "outputs": [
    {
     "name": "stdout",
     "output_type": "stream",
     "text": [
      "Hi\n"
     ]
    }
   ],
   "source": [
    "# call/invoke function:\n",
    "say_hi()"
   ]
  },
  {
   "cell_type": "markdown",
   "metadata": {},
   "source": [
    "> **Note:** According to pep:8 standards:\n",
    ">\n",
    "> 1- most function names should be lower_snake_case (not camelCase)\n",
    ">\n",
    "> 2- leave 2 lines b4 and after method definition\n"
   ]
  },
  {
   "cell_type": "code",
   "execution_count": null,
   "metadata": {},
   "outputs": [],
   "source": []
  }
 ],
 "metadata": {
  "kernelspec": {
   "display_name": "Python 3",
   "language": "python",
   "name": "python3"
  },
  "language_info": {
   "codemirror_mode": {
    "name": "ipython",
    "version": 3
   },
   "file_extension": ".py",
   "mimetype": "text/x-python",
   "name": "python",
   "nbconvert_exporter": "python",
   "pygments_lexer": "ipython3",
   "version": "3.8.7"
  }
 },
 "nbformat": 4,
 "nbformat_minor": 4
}
